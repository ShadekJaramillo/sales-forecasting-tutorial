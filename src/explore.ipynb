{
    "cells": [
        {
            "cell_type": "markdown",
            "metadata": {},
            "source": [
                "# Explore here"
            ]
        },
        {
            "cell_type": "code",
            "execution_count": 1,
            "metadata": {},
            "outputs": [],
            "source": [
                "import pandas as pd"
            ]
        },
        {
            "cell_type": "code",
            "execution_count": 2,
            "metadata": {},
            "outputs": [
                {
                    "data": {
                        "text/html": [
                            "<div>\n",
                            "<style scoped>\n",
                            "    .dataframe tbody tr th:only-of-type {\n",
                            "        vertical-align: middle;\n",
                            "    }\n",
                            "\n",
                            "    .dataframe tbody tr th {\n",
                            "        vertical-align: top;\n",
                            "    }\n",
                            "\n",
                            "    .dataframe thead th {\n",
                            "        text-align: right;\n",
                            "    }\n",
                            "</style>\n",
                            "<table border=\"1\" class=\"dataframe\">\n",
                            "  <thead>\n",
                            "    <tr style=\"text-align: right;\">\n",
                            "      <th></th>\n",
                            "      <th>date</th>\n",
                            "      <th>sales</th>\n",
                            "    </tr>\n",
                            "  </thead>\n",
                            "  <tbody>\n",
                            "    <tr>\n",
                            "      <th>0</th>\n",
                            "      <td>2022-09-03 17:10:08.079328</td>\n",
                            "      <td>55.292157</td>\n",
                            "    </tr>\n",
                            "    <tr>\n",
                            "      <th>1</th>\n",
                            "      <td>2022-09-04 17:10:08.079328</td>\n",
                            "      <td>53.803211</td>\n",
                            "    </tr>\n",
                            "    <tr>\n",
                            "      <th>2</th>\n",
                            "      <td>2022-09-05 17:10:08.079328</td>\n",
                            "      <td>58.141693</td>\n",
                            "    </tr>\n",
                            "    <tr>\n",
                            "      <th>3</th>\n",
                            "      <td>2022-09-06 17:10:08.079328</td>\n",
                            "      <td>64.530899</td>\n",
                            "    </tr>\n",
                            "    <tr>\n",
                            "      <th>4</th>\n",
                            "      <td>2022-09-07 17:10:08.079328</td>\n",
                            "      <td>66.013633</td>\n",
                            "    </tr>\n",
                            "    <tr>\n",
                            "      <th>...</th>\n",
                            "      <td>...</td>\n",
                            "      <td>...</td>\n",
                            "    </tr>\n",
                            "    <tr>\n",
                            "      <th>361</th>\n",
                            "      <td>2023-08-30 17:10:08.079328</td>\n",
                            "      <td>989.600354</td>\n",
                            "    </tr>\n",
                            "    <tr>\n",
                            "      <th>362</th>\n",
                            "      <td>2023-08-31 17:10:08.079328</td>\n",
                            "      <td>994.987326</td>\n",
                            "    </tr>\n",
                            "    <tr>\n",
                            "      <th>363</th>\n",
                            "      <td>2023-09-01 17:10:08.079328</td>\n",
                            "      <td>995.814415</td>\n",
                            "    </tr>\n",
                            "    <tr>\n",
                            "      <th>364</th>\n",
                            "      <td>2023-09-02 17:10:08.079328</td>\n",
                            "      <td>997.350214</td>\n",
                            "    </tr>\n",
                            "    <tr>\n",
                            "      <th>365</th>\n",
                            "      <td>2023-09-03 17:10:08.079328</td>\n",
                            "      <td>1000.482785</td>\n",
                            "    </tr>\n",
                            "  </tbody>\n",
                            "</table>\n",
                            "<p>366 rows × 2 columns</p>\n",
                            "</div>"
                        ],
                        "text/plain": [
                            "                           date        sales\n",
                            "0    2022-09-03 17:10:08.079328    55.292157\n",
                            "1    2022-09-04 17:10:08.079328    53.803211\n",
                            "2    2022-09-05 17:10:08.079328    58.141693\n",
                            "3    2022-09-06 17:10:08.079328    64.530899\n",
                            "4    2022-09-07 17:10:08.079328    66.013633\n",
                            "..                          ...          ...\n",
                            "361  2023-08-30 17:10:08.079328   989.600354\n",
                            "362  2023-08-31 17:10:08.079328   994.987326\n",
                            "363  2023-09-01 17:10:08.079328   995.814415\n",
                            "364  2023-09-02 17:10:08.079328   997.350214\n",
                            "365  2023-09-03 17:10:08.079328  1000.482785\n",
                            "\n",
                            "[366 rows x 2 columns]"
                        ]
                    },
                    "execution_count": 2,
                    "metadata": {},
                    "output_type": "execute_result"
                }
            ],
            "source": [
                "URL = r'https://raw.githubusercontent.com/4GeeksAcademy/alternative-time-series-project/main/sales.csv'\n",
                "df = pd.read_csv(URL)\n",
                "df"
            ]
        },
        {
            "cell_type": "code",
            "execution_count": 3,
            "metadata": {},
            "outputs": [
                {
                    "name": "stdout",
                    "output_type": "stream",
                    "text": [
                        "<class 'pandas.core.frame.DataFrame'>\n",
                        "RangeIndex: 366 entries, 0 to 365\n",
                        "Data columns (total 2 columns):\n",
                        " #   Column  Non-Null Count  Dtype  \n",
                        "---  ------  --------------  -----  \n",
                        " 0   date    366 non-null    object \n",
                        " 1   sales   366 non-null    float64\n",
                        "dtypes: float64(1), object(1)\n",
                        "memory usage: 5.8+ KB\n"
                    ]
                }
            ],
            "source": [
                "df.info()"
            ]
        },
        {
            "cell_type": "code",
            "execution_count": 4,
            "metadata": {},
            "outputs": [
                {
                    "data": {
                        "text/html": [
                            "<div>\n",
                            "<style scoped>\n",
                            "    .dataframe tbody tr th:only-of-type {\n",
                            "        vertical-align: middle;\n",
                            "    }\n",
                            "\n",
                            "    .dataframe tbody tr th {\n",
                            "        vertical-align: top;\n",
                            "    }\n",
                            "\n",
                            "    .dataframe thead th {\n",
                            "        text-align: right;\n",
                            "    }\n",
                            "</style>\n",
                            "<table border=\"1\" class=\"dataframe\">\n",
                            "  <thead>\n",
                            "    <tr style=\"text-align: right;\">\n",
                            "      <th></th>\n",
                            "      <th>sales</th>\n",
                            "    </tr>\n",
                            "    <tr>\n",
                            "      <th>date</th>\n",
                            "      <th></th>\n",
                            "    </tr>\n",
                            "  </thead>\n",
                            "  <tbody>\n",
                            "    <tr>\n",
                            "      <th>2022-09-03 17:10:08.079328</th>\n",
                            "      <td>55.292157</td>\n",
                            "    </tr>\n",
                            "    <tr>\n",
                            "      <th>2022-09-04 17:10:08.079328</th>\n",
                            "      <td>53.803211</td>\n",
                            "    </tr>\n",
                            "    <tr>\n",
                            "      <th>2022-09-05 17:10:08.079328</th>\n",
                            "      <td>58.141693</td>\n",
                            "    </tr>\n",
                            "    <tr>\n",
                            "      <th>2022-09-06 17:10:08.079328</th>\n",
                            "      <td>64.530899</td>\n",
                            "    </tr>\n",
                            "    <tr>\n",
                            "      <th>2022-09-07 17:10:08.079328</th>\n",
                            "      <td>66.013633</td>\n",
                            "    </tr>\n",
                            "    <tr>\n",
                            "      <th>...</th>\n",
                            "      <td>...</td>\n",
                            "    </tr>\n",
                            "    <tr>\n",
                            "      <th>2023-08-30 17:10:08.079328</th>\n",
                            "      <td>989.600354</td>\n",
                            "    </tr>\n",
                            "    <tr>\n",
                            "      <th>2023-08-31 17:10:08.079328</th>\n",
                            "      <td>994.987326</td>\n",
                            "    </tr>\n",
                            "    <tr>\n",
                            "      <th>2023-09-01 17:10:08.079328</th>\n",
                            "      <td>995.814415</td>\n",
                            "    </tr>\n",
                            "    <tr>\n",
                            "      <th>2023-09-02 17:10:08.079328</th>\n",
                            "      <td>997.350214</td>\n",
                            "    </tr>\n",
                            "    <tr>\n",
                            "      <th>2023-09-03 17:10:08.079328</th>\n",
                            "      <td>1000.482785</td>\n",
                            "    </tr>\n",
                            "  </tbody>\n",
                            "</table>\n",
                            "<p>366 rows × 1 columns</p>\n",
                            "</div>"
                        ],
                        "text/plain": [
                            "                                  sales\n",
                            "date                                   \n",
                            "2022-09-03 17:10:08.079328    55.292157\n",
                            "2022-09-04 17:10:08.079328    53.803211\n",
                            "2022-09-05 17:10:08.079328    58.141693\n",
                            "2022-09-06 17:10:08.079328    64.530899\n",
                            "2022-09-07 17:10:08.079328    66.013633\n",
                            "...                                 ...\n",
                            "2023-08-30 17:10:08.079328   989.600354\n",
                            "2023-08-31 17:10:08.079328   994.987326\n",
                            "2023-09-01 17:10:08.079328   995.814415\n",
                            "2023-09-02 17:10:08.079328   997.350214\n",
                            "2023-09-03 17:10:08.079328  1000.482785\n",
                            "\n",
                            "[366 rows x 1 columns]"
                        ]
                    },
                    "execution_count": 4,
                    "metadata": {},
                    "output_type": "execute_result"
                }
            ],
            "source": [
                "df.date = df.date.astype('datetime64[ns]')\n",
                "df.set_index('date', drop=True, inplace=True)\n",
                "df"
            ]
        },
        {
            "cell_type": "code",
            "execution_count": 15,
            "metadata": {},
            "outputs": [],
            "source": [
                "from sklearn.model_selection import train_test_split"
            ]
        },
        {
            "cell_type": "code",
            "execution_count": 21,
            "metadata": {},
            "outputs": [],
            "source": [
                "train, test = train_test_split(df, test_size=0.2, shuffle=False)"
            ]
        },
        {
            "cell_type": "code",
            "execution_count": 33,
            "metadata": {},
            "outputs": [
                {
                    "data": {
                        "text/html": [
                            "<div>\n",
                            "<style scoped>\n",
                            "    .dataframe tbody tr th:only-of-type {\n",
                            "        vertical-align: middle;\n",
                            "    }\n",
                            "\n",
                            "    .dataframe tbody tr th {\n",
                            "        vertical-align: top;\n",
                            "    }\n",
                            "\n",
                            "    .dataframe thead th {\n",
                            "        text-align: right;\n",
                            "    }\n",
                            "</style>\n",
                            "<table border=\"1\" class=\"dataframe\">\n",
                            "  <thead>\n",
                            "    <tr style=\"text-align: right;\">\n",
                            "      <th></th>\n",
                            "      <th>sales</th>\n",
                            "    </tr>\n",
                            "    <tr>\n",
                            "      <th>date</th>\n",
                            "      <th></th>\n",
                            "    </tr>\n",
                            "  </thead>\n",
                            "  <tbody>\n",
                            "    <tr>\n",
                            "      <th>2023-06-22 17:10:08.079328</th>\n",
                            "      <td>816.911750</td>\n",
                            "    </tr>\n",
                            "    <tr>\n",
                            "      <th>2023-06-23 17:10:08.079328</th>\n",
                            "      <td>809.422692</td>\n",
                            "    </tr>\n",
                            "    <tr>\n",
                            "      <th>2023-06-24 17:10:08.079328</th>\n",
                            "      <td>814.797630</td>\n",
                            "    </tr>\n",
                            "    <tr>\n",
                            "      <th>2023-06-25 17:10:08.079328</th>\n",
                            "      <td>821.218893</td>\n",
                            "    </tr>\n",
                            "    <tr>\n",
                            "      <th>2023-06-26 17:10:08.079328</th>\n",
                            "      <td>820.704134</td>\n",
                            "    </tr>\n",
                            "    <tr>\n",
                            "      <th>...</th>\n",
                            "      <td>...</td>\n",
                            "    </tr>\n",
                            "    <tr>\n",
                            "      <th>2023-08-30 17:10:08.079328</th>\n",
                            "      <td>989.600354</td>\n",
                            "    </tr>\n",
                            "    <tr>\n",
                            "      <th>2023-08-31 17:10:08.079328</th>\n",
                            "      <td>994.987326</td>\n",
                            "    </tr>\n",
                            "    <tr>\n",
                            "      <th>2023-09-01 17:10:08.079328</th>\n",
                            "      <td>995.814415</td>\n",
                            "    </tr>\n",
                            "    <tr>\n",
                            "      <th>2023-09-02 17:10:08.079328</th>\n",
                            "      <td>997.350214</td>\n",
                            "    </tr>\n",
                            "    <tr>\n",
                            "      <th>2023-09-03 17:10:08.079328</th>\n",
                            "      <td>1000.482785</td>\n",
                            "    </tr>\n",
                            "  </tbody>\n",
                            "</table>\n",
                            "<p>74 rows × 1 columns</p>\n",
                            "</div>"
                        ],
                        "text/plain": [
                            "                                  sales\n",
                            "date                                   \n",
                            "2023-06-22 17:10:08.079328   816.911750\n",
                            "2023-06-23 17:10:08.079328   809.422692\n",
                            "2023-06-24 17:10:08.079328   814.797630\n",
                            "2023-06-25 17:10:08.079328   821.218893\n",
                            "2023-06-26 17:10:08.079328   820.704134\n",
                            "...                                 ...\n",
                            "2023-08-30 17:10:08.079328   989.600354\n",
                            "2023-08-31 17:10:08.079328   994.987326\n",
                            "2023-09-01 17:10:08.079328   995.814415\n",
                            "2023-09-02 17:10:08.079328   997.350214\n",
                            "2023-09-03 17:10:08.079328  1000.482785\n",
                            "\n",
                            "[74 rows x 1 columns]"
                        ]
                    },
                    "execution_count": 33,
                    "metadata": {},
                    "output_type": "execute_result"
                }
            ],
            "source": [
                "test"
            ]
        },
        {
            "cell_type": "code",
            "execution_count": 22,
            "metadata": {},
            "outputs": [],
            "source": [
                "from statsmodels.tsa.seasonal import seasonal_decompose"
            ]
        },
        {
            "cell_type": "code",
            "execution_count": 23,
            "metadata": {},
            "outputs": [],
            "source": [
                "decomposition = seasonal_decompose(train)"
            ]
        },
        {
            "cell_type": "code",
            "execution_count": 7,
            "metadata": {},
            "outputs": [],
            "source": [
                "import matplotlib.pyplot as plt\n",
                "import seaborn as sns"
            ]
        },
        {
            "cell_type": "code",
            "execution_count": 27,
            "metadata": {},
            "outputs": [
                {
                    "data": {
                        "image/png": "[encoded data removed]",
                        "text/plain": [
                            "<Figure size 640x480 with 1 Axes>"
                        ]
                    },
                    "metadata": {},
                    "output_type": "display_data"
                }
            ],
            "source": [
                "sns.lineplot(train)\n",
                "sns.lineplot(decomposition.trend, label='trend')\n",
                "sns.lineplot(decomposition.resid, label='residual')\n",
                "sns.lineplot(decomposition.seasonal, label='seasonal')\n",
                "plt.legend()\n",
                "plt.show()"
            ]
        },
        {
            "cell_type": "code",
            "execution_count": 60,
            "metadata": {},
            "outputs": [
                {
                    "data": {
                        "image/png": "[encoded data removed]",
                        "text/plain": [
                            "<Figure size 640x480 with 1 Axes>"
                        ]
                    },
                    "metadata": {},
                    "output_type": "display_data"
                }
            ],
            "source": [
                "from statsmodels.graphics.tsaplots import plot_acf\n",
                "plot_acf(train,lags=290)\n",
                "plt.show()"
            ]
        },
        {
            "cell_type": "code",
            "execution_count": 43,
            "metadata": {},
            "outputs": [
                {
                    "name": "stdout",
                    "output_type": "stream",
                    "text": [
                        "p-value: 0.9837961965731921\n"
                    ]
                }
            ],
            "source": [
                "from statsmodels.tsa.stattools import adfuller\n",
                "\n",
                "pvalue = adfuller(train, autolag='BIC')[1]\n",
                "\n",
                "print(f'p-value: {pvalue}')"
            ]
        },
        {
            "cell_type": "code",
            "execution_count": 44,
            "metadata": {},
            "outputs": [
                {
                    "name": "stdout",
                    "output_type": "stream",
                    "text": [
                        "p-value: 1.1859398154284334e-23\n"
                    ]
                }
            ],
            "source": [
                "stationary_df = train.diff().dropna()\n",
                "pvalue_diff = adfuller(stationary_df, autolag='BIC')[1]\n",
                "print(f'p-value: {pvalue_diff}')"
            ]
        },
        {
            "cell_type": "code",
            "execution_count": null,
            "metadata": {},
            "outputs": [],
            "source": [
                "from pmdarima import auto_arima"
            ]
        },
        {
            "cell_type": "code",
            "execution_count": 48,
            "metadata": {},
            "outputs": [
                {
                    "name": "stderr",
                    "output_type": "stream",
                    "text": [
                        "c:\\Users\\shade\\OneDrive\\Documentos\\My coding projects\\4geeks projects\\venv312\\Lib\\site-packages\\sklearn\\utils\\deprecation.py:132: FutureWarning: 'force_all_finite' was renamed to 'ensure_all_finite' in 1.6 and will be removed in 1.8.\n",
                        "  warnings.warn(\n",
                        "c:\\Users\\shade\\OneDrive\\Documentos\\My coding projects\\4geeks projects\\venv312\\Lib\\site-packages\\sklearn\\utils\\deprecation.py:132: FutureWarning: 'force_all_finite' was renamed to 'ensure_all_finite' in 1.6 and will be removed in 1.8.\n",
                        "  warnings.warn(\n",
                        "c:\\Users\\shade\\OneDrive\\Documentos\\My coding projects\\4geeks projects\\venv312\\Lib\\site-packages\\sklearn\\utils\\deprecation.py:132: FutureWarning: 'force_all_finite' was renamed to 'ensure_all_finite' in 1.6 and will be removed in 1.8.\n",
                        "  warnings.warn(\n",
                        "c:\\Users\\shade\\OneDrive\\Documentos\\My coding projects\\4geeks projects\\venv312\\Lib\\site-packages\\sklearn\\utils\\deprecation.py:132: FutureWarning: 'force_all_finite' was renamed to 'ensure_all_finite' in 1.6 and will be removed in 1.8.\n",
                        "  warnings.warn(\n",
                        "c:\\Users\\shade\\OneDrive\\Documentos\\My coding projects\\4geeks projects\\venv312\\Lib\\site-packages\\sklearn\\utils\\deprecation.py:132: FutureWarning: 'force_all_finite' was renamed to 'ensure_all_finite' in 1.6 and will be removed in 1.8.\n",
                        "  warnings.warn(\n",
                        "c:\\Users\\shade\\OneDrive\\Documentos\\My coding projects\\4geeks projects\\venv312\\Lib\\site-packages\\sklearn\\utils\\deprecation.py:132: FutureWarning: 'force_all_finite' was renamed to 'ensure_all_finite' in 1.6 and will be removed in 1.8.\n",
                        "  warnings.warn(\n",
                        "c:\\Users\\shade\\OneDrive\\Documentos\\My coding projects\\4geeks projects\\venv312\\Lib\\site-packages\\sklearn\\utils\\deprecation.py:132: FutureWarning: 'force_all_finite' was renamed to 'ensure_all_finite' in 1.6 and will be removed in 1.8.\n",
                        "  warnings.warn(\n",
                        "c:\\Users\\shade\\OneDrive\\Documentos\\My coding projects\\4geeks projects\\venv312\\Lib\\site-packages\\sklearn\\utils\\deprecation.py:132: FutureWarning: 'force_all_finite' was renamed to 'ensure_all_finite' in 1.6 and will be removed in 1.8.\n",
                        "  warnings.warn(\n",
                        "c:\\Users\\shade\\OneDrive\\Documentos\\My coding projects\\4geeks projects\\venv312\\Lib\\site-packages\\sklearn\\utils\\deprecation.py:132: FutureWarning: 'force_all_finite' was renamed to 'ensure_all_finite' in 1.6 and will be removed in 1.8.\n",
                        "  warnings.warn(\n"
                    ]
                },
                {
                    "name": "stdout",
                    "output_type": "stream",
                    "text": [
                        "Performing stepwise search to minimize aic\n",
                        " ARIMA(2,1,2)(0,0,0)[0] intercept   : AIC=inf, Time=1.81 sec\n",
                        " ARIMA(0,1,0)(0,0,0)[0] intercept   : AIC=1675.428, Time=0.04 sec\n",
                        " ARIMA(1,1,0)(0,0,0)[0] intercept   : AIC=1578.564, Time=0.11 sec\n"
                    ]
                },
                {
                    "name": "stderr",
                    "output_type": "stream",
                    "text": [
                        "c:\\Users\\shade\\OneDrive\\Documentos\\My coding projects\\4geeks projects\\venv312\\Lib\\site-packages\\sklearn\\utils\\deprecation.py:132: FutureWarning: 'force_all_finite' was renamed to 'ensure_all_finite' in 1.6 and will be removed in 1.8.\n",
                        "  warnings.warn(\n",
                        "c:\\Users\\shade\\OneDrive\\Documentos\\My coding projects\\4geeks projects\\venv312\\Lib\\site-packages\\sklearn\\utils\\deprecation.py:132: FutureWarning: 'force_all_finite' was renamed to 'ensure_all_finite' in 1.6 and will be removed in 1.8.\n",
                        "  warnings.warn(\n",
                        "c:\\Users\\shade\\OneDrive\\Documentos\\My coding projects\\4geeks projects\\venv312\\Lib\\site-packages\\sklearn\\utils\\deprecation.py:132: FutureWarning: 'force_all_finite' was renamed to 'ensure_all_finite' in 1.6 and will be removed in 1.8.\n",
                        "  warnings.warn(\n"
                    ]
                },
                {
                    "name": "stdout",
                    "output_type": "stream",
                    "text": [
                        " ARIMA(0,1,1)(0,0,0)[0] intercept   : AIC=1475.165, Time=0.31 sec\n",
                        " ARIMA(0,1,0)(0,0,0)[0]             : AIC=1763.761, Time=0.03 sec\n"
                    ]
                },
                {
                    "name": "stderr",
                    "output_type": "stream",
                    "text": [
                        "c:\\Users\\shade\\OneDrive\\Documentos\\My coding projects\\4geeks projects\\venv312\\Lib\\site-packages\\sklearn\\utils\\deprecation.py:132: FutureWarning: 'force_all_finite' was renamed to 'ensure_all_finite' in 1.6 and will be removed in 1.8.\n",
                        "  warnings.warn(\n",
                        "c:\\Users\\shade\\OneDrive\\Documentos\\My coding projects\\4geeks projects\\venv312\\Lib\\site-packages\\sklearn\\utils\\deprecation.py:132: FutureWarning: 'force_all_finite' was renamed to 'ensure_all_finite' in 1.6 and will be removed in 1.8.\n",
                        "  warnings.warn(\n"
                    ]
                },
                {
                    "name": "stdout",
                    "output_type": "stream",
                    "text": [
                        " ARIMA(1,1,1)(0,0,0)[0] intercept   : AIC=1475.512, Time=0.62 sec\n"
                    ]
                },
                {
                    "name": "stderr",
                    "output_type": "stream",
                    "text": [
                        "c:\\Users\\shade\\OneDrive\\Documentos\\My coding projects\\4geeks projects\\venv312\\Lib\\site-packages\\sklearn\\utils\\deprecation.py:132: FutureWarning: 'force_all_finite' was renamed to 'ensure_all_finite' in 1.6 and will be removed in 1.8.\n",
                        "  warnings.warn(\n"
                    ]
                },
                {
                    "name": "stdout",
                    "output_type": "stream",
                    "text": [
                        " ARIMA(0,1,2)(0,0,0)[0] intercept   : AIC=1475.495, Time=0.59 sec\n"
                    ]
                },
                {
                    "name": "stderr",
                    "output_type": "stream",
                    "text": [
                        "c:\\Users\\shade\\OneDrive\\Documentos\\My coding projects\\4geeks projects\\venv312\\Lib\\site-packages\\sklearn\\utils\\deprecation.py:132: FutureWarning: 'force_all_finite' was renamed to 'ensure_all_finite' in 1.6 and will be removed in 1.8.\n",
                        "  warnings.warn(\n"
                    ]
                },
                {
                    "name": "stdout",
                    "output_type": "stream",
                    "text": [
                        " ARIMA(1,1,2)(0,0,0)[0] intercept   : AIC=1479.028, Time=0.76 sec\n",
                        " ARIMA(0,1,1)(0,0,0)[0]             : AIC=1762.924, Time=0.18 sec\n",
                        "\n",
                        "Best model:  ARIMA(0,1,1)(0,0,0)[0] intercept\n",
                        "Total fit time: 4.492 seconds\n"
                    ]
                },
                {
                    "name": "stderr",
                    "output_type": "stream",
                    "text": [
                        "c:\\Users\\shade\\OneDrive\\Documentos\\My coding projects\\4geeks projects\\venv312\\Lib\\site-packages\\sklearn\\utils\\deprecation.py:132: FutureWarning: 'force_all_finite' was renamed to 'ensure_all_finite' in 1.6 and will be removed in 1.8.\n",
                        "  warnings.warn(\n"
                    ]
                }
            ],
            "source": [
                "\n",
                "model = auto_arima(train, seasonal = False, trace = True)"
            ]
        },
        {
            "cell_type": "code",
            "execution_count": 49,
            "metadata": {},
            "outputs": [
                {
                    "name": "stderr",
                    "output_type": "stream",
                    "text": [
                        "c:\\Users\\shade\\OneDrive\\Documentos\\My coding projects\\4geeks projects\\venv312\\Lib\\site-packages\\sklearn\\utils\\deprecation.py:132: FutureWarning: 'force_all_finite' was renamed to 'ensure_all_finite' in 1.6 and will be removed in 1.8.\n",
                        "  warnings.warn(\n"
                    ]
                },
                {
                    "data": {
                        "text/plain": [
                            "2023-06-22 17:10:08.079328    810.107776\n",
                            "2023-06-23 17:10:08.079328    812.706154\n",
                            "2023-06-24 17:10:08.079328    815.304531\n",
                            "2023-06-25 17:10:08.079328    817.902909\n",
                            "2023-06-26 17:10:08.079328    820.501287\n",
                            "                                 ...    \n",
                            "2023-08-30 17:10:08.079328    989.395832\n",
                            "2023-08-31 17:10:08.079328    991.994210\n",
                            "2023-09-01 17:10:08.079328    994.592587\n",
                            "2023-09-02 17:10:08.079328    997.190965\n",
                            "2023-09-03 17:10:08.079328    999.789343\n",
                            "Freq: D, Length: 74, dtype: float64"
                        ]
                    },
                    "execution_count": 49,
                    "metadata": {},
                    "output_type": "execute_result"
                }
            ],
            "source": [
                "ypred = model.predict(74)\n",
                "ypred"
            ]
        },
        {
            "cell_type": "code",
            "execution_count": 50,
            "metadata": {},
            "outputs": [
                {
                    "data": {
                        "text/html": [
                            "<div>\n",
                            "<style scoped>\n",
                            "    .dataframe tbody tr th:only-of-type {\n",
                            "        vertical-align: middle;\n",
                            "    }\n",
                            "\n",
                            "    .dataframe tbody tr th {\n",
                            "        vertical-align: top;\n",
                            "    }\n",
                            "\n",
                            "    .dataframe thead th {\n",
                            "        text-align: right;\n",
                            "    }\n",
                            "</style>\n",
                            "<table border=\"1\" class=\"dataframe\">\n",
                            "  <thead>\n",
                            "    <tr style=\"text-align: right;\">\n",
                            "      <th></th>\n",
                            "      <th>sales</th>\n",
                            "    </tr>\n",
                            "    <tr>\n",
                            "      <th>date</th>\n",
                            "      <th></th>\n",
                            "    </tr>\n",
                            "  </thead>\n",
                            "  <tbody>\n",
                            "    <tr>\n",
                            "      <th>2023-06-22 17:10:08.079328</th>\n",
                            "      <td>816.911750</td>\n",
                            "    </tr>\n",
                            "    <tr>\n",
                            "      <th>2023-06-23 17:10:08.079328</th>\n",
                            "      <td>809.422692</td>\n",
                            "    </tr>\n",
                            "    <tr>\n",
                            "      <th>2023-06-24 17:10:08.079328</th>\n",
                            "      <td>814.797630</td>\n",
                            "    </tr>\n",
                            "    <tr>\n",
                            "      <th>2023-06-25 17:10:08.079328</th>\n",
                            "      <td>821.218893</td>\n",
                            "    </tr>\n",
                            "    <tr>\n",
                            "      <th>2023-06-26 17:10:08.079328</th>\n",
                            "      <td>820.704134</td>\n",
                            "    </tr>\n",
                            "    <tr>\n",
                            "      <th>...</th>\n",
                            "      <td>...</td>\n",
                            "    </tr>\n",
                            "    <tr>\n",
                            "      <th>2023-08-30 17:10:08.079328</th>\n",
                            "      <td>989.600354</td>\n",
                            "    </tr>\n",
                            "    <tr>\n",
                            "      <th>2023-08-31 17:10:08.079328</th>\n",
                            "      <td>994.987326</td>\n",
                            "    </tr>\n",
                            "    <tr>\n",
                            "      <th>2023-09-01 17:10:08.079328</th>\n",
                            "      <td>995.814415</td>\n",
                            "    </tr>\n",
                            "    <tr>\n",
                            "      <th>2023-09-02 17:10:08.079328</th>\n",
                            "      <td>997.350214</td>\n",
                            "    </tr>\n",
                            "    <tr>\n",
                            "      <th>2023-09-03 17:10:08.079328</th>\n",
                            "      <td>1000.482785</td>\n",
                            "    </tr>\n",
                            "  </tbody>\n",
                            "</table>\n",
                            "<p>74 rows × 1 columns</p>\n",
                            "</div>"
                        ],
                        "text/plain": [
                            "                                  sales\n",
                            "date                                   \n",
                            "2023-06-22 17:10:08.079328   816.911750\n",
                            "2023-06-23 17:10:08.079328   809.422692\n",
                            "2023-06-24 17:10:08.079328   814.797630\n",
                            "2023-06-25 17:10:08.079328   821.218893\n",
                            "2023-06-26 17:10:08.079328   820.704134\n",
                            "...                                 ...\n",
                            "2023-08-30 17:10:08.079328   989.600354\n",
                            "2023-08-31 17:10:08.079328   994.987326\n",
                            "2023-09-01 17:10:08.079328   995.814415\n",
                            "2023-09-02 17:10:08.079328   997.350214\n",
                            "2023-09-03 17:10:08.079328  1000.482785\n",
                            "\n",
                            "[74 rows x 1 columns]"
                        ]
                    },
                    "execution_count": 50,
                    "metadata": {},
                    "output_type": "execute_result"
                }
            ],
            "source": [
                "test"
            ]
        },
        {
            "cell_type": "code",
            "execution_count": 51,
            "metadata": {},
            "outputs": [
                {
                    "data": {
                        "text/plain": [
                            "<Axes: xlabel='date'>"
                        ]
                    },
                    "execution_count": 51,
                    "metadata": {},
                    "output_type": "execute_result"
                },
                {
                    "data": {
                        "image/png": "[encoded data removed]",
                        "text/plain": [
                            "<Figure size 640x480 with 1 Axes>"
                        ]
                    },
                    "metadata": {},
                    "output_type": "display_data"
                }
            ],
            "source": [
                "sns.lineplot(test)\n",
                "sns.lineplot(ypred, label='model')"
            ]
        }
    ],
    "metadata": {
        "kernelspec": {
            "display_name": "venv312",
            "language": "python",
            "name": "python3"
        },
        "language_info": {
            "codemirror_mode": {
                "name": "ipython",
                "version": 3
            },
            "file_extension": ".py",
            "mimetype": "text/x-python",
            "name": "python",
            "nbconvert_exporter": "python",
            "pygments_lexer": "ipython3",
            "version": "3.12.10"
        },
        "orig_nbformat": 4
    },
    "nbformat": 4,
    "nbformat_minor": 2
}
